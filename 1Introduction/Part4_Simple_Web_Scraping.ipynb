{
 "cells": [
  {
   "cell_type": "markdown",
   "metadata": {},
   "source": "# Requête HTTP "
  },
  {
   "cell_type": "markdown",
   "metadata": {},
   "source": [
    "Un requête HTTP est une requête basée sur le protocole TCP, elle fait partie de la couche application de la couche OSI. Elle permet d'accéder aux données mise à disposition sur une adresse IP (ou url résolue par un DNS) et un port. \n",
    "\n",
    "Les deux ports les plus utilisés dans le web sont le 80 pour les sites en HTTP et le 443 pour les sites en HTTPS. HTTPS est une variable du protocole HTTP basé sur le protocole TLS.\n",
    "\n",
    "Il existe de nombreux types de requêtes selon la convention `REST`: \n",
    "- GET\n",
    "- POST\n",
    "- PUT \n",
    "- DELETE\n",
    "- UPDATE.\n",
    "\n",
    "Dans notre cas, nous allons utiliser la plupart du temps des GET et potentiellement des POST. \n",
    "- Le GET permet comme son nom l'indique de récupérer des informations en fonction de certains paramètres. \n",
    "- Le POST nécessite un envoi de données pour récupérer des données. Le body du post est, la plupart du temps, envoyé sous la forme d'un objet JSON.\n",
    "\n",
    "Ces requêtes encapsulent un certain nombre de paramètres qui permettent soient d'identifier une provenance et un utilisateur ou de réaliser différentes actions."
   ]
  },
  {
   "cell_type": "code",
   "metadata": {
    "ExecuteTime": {
     "end_time": "2024-11-12T15:17:34.931980Z",
     "start_time": "2024-11-12T15:17:34.925652Z"
    }
   },
   "source": [
    "import requests\n",
    "from setuptools.package_index import user_agent"
   ],
   "outputs": [],
   "execution_count": 222
  },
  {
   "cell_type": "code",
   "metadata": {
    "ExecuteTime": {
     "end_time": "2024-11-12T15:17:35.209764Z",
     "start_time": "2024-11-12T15:17:35.026228Z"
    }
   },
   "source": [
    "url = \"https://www.esiee.fr/\"\n",
    "response = requests.get(url)\n",
    "response.status_code"
   ],
   "outputs": [
    {
     "data": {
      "text/plain": [
       "200"
      ]
     },
     "execution_count": 223,
     "metadata": {},
     "output_type": "execute_result"
    }
   ],
   "execution_count": 223
  },
  {
   "cell_type": "markdown",
   "metadata": {},
   "source": [
    "Il existe deux méthodes pour récupérer le contenu de la page :\n",
    "\n",
    "- `response.text` qui permet de retourner le texte sous la forme d'une chaine de charactères.\n",
    "- `response.content` qui permet de récupérer le contenu de la page sous la forme de bytes"
   ]
  },
  {
   "cell_type": "code",
   "metadata": {
    "ExecuteTime": {
     "end_time": "2024-11-12T15:17:35.238360Z",
     "start_time": "2024-11-12T15:17:35.231841Z"
    }
   },
   "source": [
    "type(response.content)"
   ],
   "outputs": [
    {
     "data": {
      "text/plain": [
       "bytes"
      ]
     },
     "execution_count": 224,
     "metadata": {},
     "output_type": "execute_result"
    }
   ],
   "execution_count": 224
  },
  {
   "cell_type": "code",
   "metadata": {
    "ExecuteTime": {
     "end_time": "2024-11-12T15:17:35.316858Z",
     "start_time": "2024-11-12T15:17:35.311382Z"
    }
   },
   "source": [
    "type(response.text)"
   ],
   "outputs": [
    {
     "data": {
      "text/plain": [
       "str"
      ]
     },
     "execution_count": 225,
     "metadata": {},
     "output_type": "execute_result"
    }
   ],
   "execution_count": 225
  },
  {
   "cell_type": "markdown",
   "metadata": {},
   "source": [
    "Pour récupérer les 1000 premiers charactères de la page :"
   ]
  },
  {
   "cell_type": "code",
   "metadata": {
    "ExecuteTime": {
     "end_time": "2024-11-12T15:17:35.376682Z",
     "start_time": "2024-11-12T15:17:35.370131Z"
    }
   },
   "source": [
    "response.text[0:1000]"
   ],
   "outputs": [
    {
     "data": {
      "text/plain": [
       "'<!DOCTYPE html>\\n<html lang=\"fr-FR\">\\n<head>\\n\\n<meta charset=\"utf-8\">\\n<!-- \\n\\tThis website is powered by TYPO3 - inspiring people to share!\\n\\tTYPO3 is a free open source Content Management Framework initially created by Kasper Skaarhoj and licensed under GNU/GPL.\\n\\tTYPO3 is copyright 1998-2024 of Kasper Skaarhoj. Extensions are copyright of their respective owners.\\n\\tInformation and contribution at https://typo3.org/\\n-->\\n\\n\\n\\n<title>ESIEE Paris, l&#039;école de l&#039;innovation technologique | ESIEE Paris</title>\\n<meta name=\"generator\" content=\"TYPO3 CMS\" />\\n<meta name=\"description\" content=\"Rejoignez ESIEE Paris, grande école d&#039;ingénieur dans les domaines des transitions numérique, énergétique et environnementale. Classée dans le groupe A, parmi les meilleures écoles d&#039;ingénieur selon le classement de l&#039;Etudiant. Habilitée par la Commission des Titres d&#039;Ingénieur (CTI). Membre de la Conférence des Grandes Ecoles (CGE). \" />\\n<meta name=\"viewport\" content=\"width=device-width'"
      ]
     },
     "execution_count": 226,
     "metadata": {},
     "output_type": "execute_result"
    }
   ],
   "execution_count": 226
  },
  {
   "cell_type": "markdown",
   "metadata": {},
   "source": [
    "Pour récupérer les headers HTTP de la réponse :"
   ]
  },
  {
   "cell_type": "code",
   "metadata": {
    "ExecuteTime": {
     "end_time": "2024-11-12T15:17:35.467299Z",
     "start_time": "2024-11-12T15:17:35.461532Z"
    }
   },
   "source": [
    "response.headers"
   ],
   "outputs": [
    {
     "data": {
      "text/plain": [
       "{'Date': 'Tue, 12 Nov 2024 15:17:02 GMT', 'Server': 'Apache', 'Content-Language': 'fr', 'Vary': 'Accept-Encoding', 'Content-Encoding': 'gzip', 'X-UA-Compatible': 'IE=edge', 'X-Content-Type-Options': 'nosniff', 'Content-Length': '16454', 'Content-Type': 'text/html; charset=utf-8', 'X-Varnish': '78776129 76057833', 'Age': '32', 'Via': '1.1 varnish (Varnish/7.1)', 'Accept-Ranges': 'bytes', 'Connection': 'keep-alive'}"
      ]
     },
     "execution_count": 227,
     "metadata": {},
     "output_type": "execute_result"
    }
   ],
   "execution_count": 227
  },
  {
   "cell_type": "markdown",
   "metadata": {},
   "source": "On peut modifier les paramètres de la requête et/ou ses headers. On peut par exemple ajouter un UserAgent (identifiant de l'initiateur de la requête) et un timeout de 10 secondes :"
  },
  {
   "cell_type": "code",
   "metadata": {
    "ExecuteTime": {
     "end_time": "2024-11-12T15:17:35.747980Z",
     "start_time": "2024-11-12T15:17:35.620350Z"
    }
   },
   "source": [
    "headers = {'User-Agent': 'Mozilla/5.0 (Macintosh; Intel Mac OS X 10_10_1) AppleWebKit/537.36 (KHTML, like Gecko) Chrome/39.0.2171.95 Safari/537.36'}\n",
    "response = requests.get(url, headers=headers, timeout = 10)\n",
    "response.content[0:1000]"
   ],
   "outputs": [
    {
     "data": {
      "text/plain": [
       "b'<!DOCTYPE html>\\n<html lang=\"fr-FR\">\\n<head>\\n\\n<meta charset=\"utf-8\">\\n<!-- \\n\\tThis website is powered by TYPO3 - inspiring people to share!\\n\\tTYPO3 is a free open source Content Management Framework initially created by Kasper Skaarhoj and licensed under GNU/GPL.\\n\\tTYPO3 is copyright 1998-2024 of Kasper Skaarhoj. Extensions are copyright of their respective owners.\\n\\tInformation and contribution at https://typo3.org/\\n-->\\n\\n\\n\\n<title>ESIEE Paris, l&#039;\\xc3\\xa9cole de l&#039;innovation technologique | ESIEE Paris</title>\\n<meta name=\"generator\" content=\"TYPO3 CMS\" />\\n<meta name=\"description\" content=\"Rejoignez ESIEE Paris, grande \\xc3\\xa9cole d&#039;ing\\xc3\\xa9nieur dans les domaines des transitions num\\xc3\\xa9rique, \\xc3\\xa9nerg\\xc3\\xa9tique et environnementale. Class\\xc3\\xa9e dans le groupe A, parmi les meilleures \\xc3\\xa9coles d&#039;ing\\xc3\\xa9nieur selon le classement de l&#039;Etudiant. Habilit\\xc3\\xa9e par la Commission des Titres d&#039;Ing\\xc3\\xa9nieur (CTI). Membre de la Conf\\xc3\\xa9rence des Grandes Ecoles (CGE). \" />\\n<meta name=\"viewport\" content=\"width='"
      ]
     },
     "execution_count": 228,
     "metadata": {},
     "output_type": "execute_result"
    }
   ],
   "execution_count": 228
  },
  {
   "cell_type": "markdown",
   "metadata": {},
   "source": [
    "## Exercice"
   ]
  },
  {
   "cell_type": "markdown",
   "metadata": {},
   "source": [
    "## Exercice 1\n",
    "\n",
    "- Créer une classe Python permettant de faire des requêtes HTTP.\n",
    "- Cette classe doit utiliser toujours le même UserAgent.\n",
    "- Le TimeOut sera spécifié à chaque appelle avec une valeur par défaut.\n",
    "- Un mécanisme de retry sera mis en place de façon recursive.\n",
    "\n",
    "## Exercice 2\n",
    "\n",
    "- Faire une fonction permettant de supprimer tous les espaces supperflus d'une string\n",
    "- Faire une fonction qui prend une string html et renvois une string intelligible (enlever les caractères spéciaux,\n",
    "- Récupérer le domaine en fonction d'un url"
   ]
  },
  {
   "metadata": {
    "ExecuteTime": {
     "end_time": "2024-11-12T15:17:36.030888Z",
     "start_time": "2024-11-12T15:17:35.773611Z"
    }
   },
   "cell_type": "code",
   "source": [
    "class HTTP :\n",
    "    def __init__(self, user_agent = \"Mozilla/5.0 (Macintosh; Intel Mac OS X 10_10_1) AppleWebKit/537.36 (KHTML, like Gecko) Chrome/39.0.2171.95 Safari/537.36\", default_timeout = 10 ):\n",
    "        self.headers = {'User-Agents' : user_agent} \n",
    "        self.default_timeout = default_timeout\n",
    "        \n",
    "    def get (self, url, timeout = None, retries = 3) :\n",
    "             if timeout is None:\n",
    "                 timeout = self.default_timeout\n",
    "             try :\n",
    "                response = requests.get(url, headers= self.headers,  timeout = timeout)\n",
    "                return response\n",
    "             except requests.exceptions.RequestException :\n",
    "                if retries >0 : \n",
    "                    response = self.get(url, retries - 1)  \n",
    "                    return response           \n",
    "            \n",
    "url = \"https://www.esiee.fr/\"            \n",
    "result = HTTP()\n",
    "response = result.get(url)\n",
    "print (response.text[0:1000])\n",
    "            "
   ],
   "outputs": [
    {
     "name": "stdout",
     "output_type": "stream",
     "text": [
      "<!DOCTYPE html>\n",
      "<html lang=\"fr-FR\">\n",
      "<head>\n",
      "\n",
      "<meta charset=\"utf-8\">\n",
      "<!-- \n",
      "\tThis website is powered by TYPO3 - inspiring people to share!\n",
      "\tTYPO3 is a free open source Content Management Framework initially created by Kasper Skaarhoj and licensed under GNU/GPL.\n",
      "\tTYPO3 is copyright 1998-2024 of Kasper Skaarhoj. Extensions are copyright of their respective owners.\n",
      "\tInformation and contribution at https://typo3.org/\n",
      "-->\n",
      "\n",
      "\n",
      "\n",
      "<title>ESIEE Paris, l&#039;école de l&#039;innovation technologique | ESIEE Paris</title>\n",
      "<meta name=\"generator\" content=\"TYPO3 CMS\" />\n",
      "<meta name=\"description\" content=\"Rejoignez ESIEE Paris, grande école d&#039;ingénieur dans les domaines des transitions numérique, énergétique et environnementale. Classée dans le groupe A, parmi les meilleures écoles d&#039;ingénieur selon le classement de l&#039;Etudiant. Habilitée par la Commission des Titres d&#039;Ingénieur (CTI). Membre de la Conférence des Grandes Ecoles (CGE). \" />\n",
      "<meta name=\"viewport\" content=\"width=device-width\n"
     ]
    }
   ],
   "execution_count": 229
  },
  {
   "metadata": {
    "ExecuteTime": {
     "end_time": "2024-11-12T15:17:36.095301Z",
     "start_time": "2024-11-12T15:17:36.082860Z"
    }
   },
   "cell_type": "code",
   "source": [
    "def clean_space_string(text) :\n",
    "    \"\".join(text.split())\n",
    "    return text\n",
    "\n",
    "def clean_unicode_string(text) :\n",
    "    new_text = \"\".join(char for char in text if char.isalnum())\n",
    "    return new_text\n",
    "\n",
    "from urllib.parse import urlparse\n",
    "\n",
    "def domain(url) :\n",
    "    url = urlparse(url).netloc\n",
    "    return url\n",
    "  \n",
    "domain(url)\n"
   ],
   "outputs": [
    {
     "data": {
      "text/plain": [
       "'www.esiee.fr'"
      ]
     },
     "execution_count": 230,
     "metadata": {},
     "output_type": "execute_result"
    }
   ],
   "execution_count": 230
  },
  {
   "cell_type": "markdown",
   "metadata": {},
   "source": [
    "# Exploitation du HTML  "
   ]
  },
  {
   "cell_type": "markdown",
   "metadata": {},
   "source": [
    "Ici, il faut récupérer le code HTML d'un site web à partir d'une requête. Lorsque vous avez récupéré le texte d'un site il faut le parser. Pour cela, on utilise BeautifulSoup qui permet de transformer la structure HTML en objet Python. Cela permet de récupérer efficacement les données qui nous intéresse.\n",
    "\n",
    "Pour les webmasters, le blocage le plus souvent mis en place et un blocage sur le User-Agent. Le User-Agent est un paramètre intégré dans la requête HTTP réalisé par le Navigateur pour envoyer au front des informations basiques :\n",
    "\n",
    "- la version du Navigateur,\n",
    "- la version de l'OS\n",
    "- Le type de gestionnaire graphique (Gecko)\n",
    "- le type de device utilisé"
   ]
  },
  {
   "cell_type": "markdown",
   "metadata": {},
   "source": [
    "Exemple de User Agent :  \n",
    "\n",
    "`Mozilla/5.0 (Windows NT 6.1; Win64; x64; rv:47.0) Gecko/20100101 Firefox/47.0`"
   ]
  },
  {
   "cell_type": "markdown",
   "metadata": {},
   "source": "Commençons à utiliser `BeautifulSoup`, il est normalement déjà installé, le cas échéant executez les lignes suivantes : "
  },
  {
   "cell_type": "code",
   "metadata": {
    "ExecuteTime": {
     "end_time": "2024-11-12T15:17:36.163190Z",
     "start_time": "2024-11-12T15:17:36.155674Z"
    }
   },
   "source": [
    "import requests\n",
    "from bs4 import BeautifulSoup"
   ],
   "outputs": [],
   "execution_count": 231
  },
  {
   "cell_type": "markdown",
   "metadata": {},
   "source": [
    "Pour transformer une requête (requests) en objet BeautifulSoup :"
   ]
  },
  {
   "cell_type": "code",
   "metadata": {
    "ExecuteTime": {
     "end_time": "2024-11-12T15:17:36.471677Z",
     "start_time": "2024-11-12T15:17:36.199545Z"
    }
   },
   "source": [
    "response = requests.get(url)\n",
    "soup = BeautifulSoup(response.text)"
   ],
   "outputs": [],
   "execution_count": 232
  },
  {
   "cell_type": "markdown",
   "metadata": {},
   "source": "Pour trouver tous les liens d'une page, on récupère la balise `a` qui permet de gérer les liens en HTML :"
  },
  {
   "cell_type": "code",
   "metadata": {
    "ExecuteTime": {
     "end_time": "2024-11-12T15:17:36.517314Z",
     "start_time": "2024-11-12T15:17:36.509091Z"
    }
   },
   "source": [
    "soup.find_all(\"a\")[0:10]"
   ],
   "outputs": [
    {
     "data": {
      "text/plain": [
       "[<a href=\"/#content\">Aller au contenu</a>,\n",
       " <a href=\"/#menu\">Aller au menu</a>,\n",
       " <a href=\"/plan-du-site/\">Plan du site</a>,\n",
       " <a href=\"/actualites/journees-portes-ouvertes-2024-2025\" target=\"_blank\" title=\"Ouvre une nouvelle fenêtre\">Bien choisir son école, c'est aussi la rencontrer ! Rendez-vous à ESIEE Paris le 7 décembre de 13h à 18h pour notre journée portes ouvertes.</a>,\n",
       " <a href=\"/\"><img alt=\"ESIEE PARIS\" class=\"a42-ac-replace-img\" src=\"/typo3conf/ext/esiee_sitepackage/Resources/Public/imgs/svg/logo-esiee.svg\"/></a>,\n",
       " <a href=\"/brochures-1\">Brochures</a>,\n",
       " <a href=\"/informations/etudiantes-et-etudiants\">Espace élèves</a>,\n",
       " <a href=\"/\" hreflang=\"fr-FR\" title=\"Français\">\n",
       " <span>Fr</span>\n",
       " </a>,\n",
       " <a href=\"/en/\" hreflang=\"en-US\" title=\"English\">\n",
       " <span>En</span>\n",
       " </a>,\n",
       " <a href=\"/candidater-1\">Candidater</a>]"
      ]
     },
     "execution_count": 233,
     "metadata": {},
     "output_type": "execute_result"
    }
   ],
   "execution_count": 233
  },
  {
   "cell_type": "markdown",
   "metadata": {},
   "source": [
    "On peut aussi préciser la classe HTML qu'on veut récupérer :\n",
    "\n",
    "```python\n",
    "soup.find_all(class_=\"<CLASS_NAME>\")[0:10]\n",
    "```\n",
    "\n",
    "Ici par exemple: "
   ]
  },
  {
   "cell_type": "code",
   "metadata": {
    "ExecuteTime": {
     "end_time": "2024-11-12T15:17:36.573821Z",
     "start_time": "2024-11-12T15:17:36.557113Z"
    }
   },
   "source": "soup.find_all(class_=\"toggler\")[0:5]",
   "outputs": [
    {
     "data": {
      "text/plain": [
       "[<button aria-controls=\"searchbox-header-form\" aria-expanded=\"false\" class=\"toggler\">\n",
       " <i class=\"fa-solid fa-magnifying-glass\"></i>\n",
       " <i class=\"fa-solid fa-xmark\"></i>\n",
       " <span class=\"sr-only\">\n",
       " <span class=\"display\">Afficher</span><span class=\"hide\">Masquer</span> la recherche\n",
       " \t\t</span>\n",
       " </button>,\n",
       " <button aria-controls=\"submenu-40\" aria-expanded=\"false\" class=\"toggler\"><span class=\"sr-only\"><span class=\"display\">Afficher</span><span class=\"hide\">Masquer</span> le sous menu : </span>L'école</button>,\n",
       " <button aria-controls=\"submenu-563\" aria-expanded=\"false\" class=\"toggler\"><span class=\"sr-only\"><span class=\"display\">Afficher</span><span class=\"hide\">Masquer</span> le sous menu : </span>Gouvernance et conseils</button>,\n",
       " <button aria-controls=\"submenu-65\" aria-expanded=\"false\" class=\"toggler\"><span class=\"sr-only\"><span class=\"display\">Afficher</span><span class=\"hide\">Masquer</span> le sous menu : </span>Départements d'enseignements et de recherche</button>,\n",
       " <button aria-controls=\"submenu-67\" aria-expanded=\"false\" class=\"toggler\"><span class=\"sr-only\"><span class=\"display\">Afficher</span><span class=\"hide\">Masquer</span> le sous menu : </span>Salles blanches</button>]"
      ]
     },
     "execution_count": 234,
     "metadata": {},
     "output_type": "execute_result"
    }
   ],
   "execution_count": 234
  },
  {
   "cell_type": "markdown",
   "metadata": {},
   "source": [
    "Pour récupérer le text sans les balises HTML :"
   ]
  },
  {
   "cell_type": "code",
   "metadata": {
    "ExecuteTime": {
     "end_time": "2024-11-12T15:17:36.624747Z",
     "start_time": "2024-11-12T15:17:36.617118Z"
    }
   },
   "source": [
    "soup.text[0:1000]"
   ],
   "outputs": [
    {
     "data": {
      "text/plain": [
       "\"\\n\\n\\n\\n\\nESIEE Paris, l'école de l'innovation technologique | ESIEE Paris\\n\\n\\n\\n\\n\\n\\n\\n\\n\\n\\n\\n\\n\\n\\n\\n\\n\\n\\n\\n\\n\\n\\n\\n\\n\\nAller au contenu\\nAller au menu\\nPlan du site\\n\\n\\n\\n\\n\\n\\n\\nBien choisir son école, c'est aussi la rencontrer ! Rendez-vous à ESIEE Paris le 7 décembre de 13h à 18h pour notre journée portes ouvertes.\\n\\n\\n\\n\\n\\nMasquer l'alerte\\n\\n\\n\\n\\n\\n\\n\\n\\n\\n\\n\\n\\n\\n\\nBrochuresEspace élèves\\n\\n\\n\\nFr\\n\\n\\n\\n\\nEn\\n\\n\\n\\n\\n\\n\\n\\n\\n\\nAfficherMasquer la recherche\\r\\n\\t\\t\\n\\n\\n\\nSaisissez votre recherche\\xa0:\\n\\nLancer la recherche\\n\\n\\n\\nCandidater\\n\\nAfficherMasquer le menu\\n\\n\\n\\n\\n\\nRetour au menu principalAfficherMasquer le sous menu\\xa0: L'écolePourquoi choisir ESIEE Paris ?AfficherMasquer le sous menu\\xa0: Gouvernance et conseilsGouvernance et conseilsConseil scientifiqueAfficherMasquer le sous menu\\xa0: Départements d'enseignements et de rechercheInformatique et télécommunicationsIngénierie des systèmes cyberphysiquesIngénierie industrielleSanté, énergie et environnement durableManagement, sciences humaines et languesCorps professoralAfficherMasquer le sous menu\\xa0: Salles blanchesSa\""
      ]
     },
     "execution_count": 235,
     "metadata": {},
     "output_type": "execute_result"
    }
   ],
   "execution_count": 235
  },
  {
   "cell_type": "markdown",
   "metadata": {},
   "source": [
    "## Exercice\n",
    "### Exercice 3\n",
    "\n",
    "Améliorer la classe développé précédemment.\n",
    "\n",
    "- Ajouter une méthode pour récupérer l'objet soup d'un url\n",
    "- Récupérer une liste de User Agent et effectuer une rotation aléatoire sur celui à utiliser\n",
    "- Utiliser cette classe pour parser une page HTML et récupérer : le titre, tous les H1 (si ils existent), les liens vers les images, les liens sortants vers d'autres sites, et le texte principal."
   ]
  },
  {
   "metadata": {
    "ExecuteTime": {
     "end_time": "2024-11-12T15:17:37.089371Z",
     "start_time": "2024-11-12T15:17:36.661149Z"
    }
   },
   "cell_type": "code",
   "source": [
    "import random\n",
    "\n",
    "class HTTP:\n",
    "    def __init__(self, default_timeout=3):\n",
    "        self.user_agents = [\n",
    "            \"Mozilla/5.0 (compatible; Googlebot/2.1; +http://www.google.com/bot.html)\",\n",
    "            \"Mozilla/4.0 (compatible; MSIE 5.01; Windows NT 5.0)\",\n",
    "            \"Mozilla/5.0 (Windows; U; Windows NT 5.1; fr; rv:1.8.1) VoilaBot BETA 1.2 (support.voilabot@orange-ftgroup.com)\",\n",
    "            \"Mozilla/5.0 (compatible; bingbot/2.0; +http://www.bing.com/bingbot.htm)\",\n",
    "            \"Mozilla/5.0 (Windows NT 5.1; rv:13.0) Gecko/20100101 Firefox/13.0.1\",\n",
    "            \"Mozilla/5.0 (Windows NT 5.1; rv:5.0.1) Gecko/20100101 Firefox/5.0.1\",\n",
    "            \"Mozilla/5.0 (Windows NT 6.1; WOW64; rv:5.0) Gecko/20100101 Firefox/5.0\",\n",
    "            \"Mozilla/5.0 (Windows NT 6.1; WOW64) AppleWebKit/535.1 (KHTML, like Gecko) Chrome/13.0.782.112 Safari/535.1\",\n",
    "            \"Mozilla/5.0 (Windows NT 6.0) AppleWebKit/535.1 (KHTML, like Gecko) Chrome/13.0.782.112 Safari/535.1\"\n",
    "        ]\n",
    "        self.default_timeout = default_timeout\n",
    "        self.headers = {'User-Agent': random.choice(self.user_agents)}\n",
    "\n",
    "    def get(self, url, timeout=None, retries=3):\n",
    "        if timeout is None:\n",
    "            timeout = self.default_timeout\n",
    "        try:\n",
    "            response = requests.get(url, headers=self.headers, timeout=timeout)\n",
    "            return response\n",
    "        except requests.exceptions.RequestException:\n",
    "            if retries > 0:\n",
    "                return self.get(url, timeout, retries - 1)\n",
    "            else:\n",
    "                return None\n",
    "\n",
    "    def obj_soup(self,url):\n",
    "        response = self.get(url)\n",
    "        if response:\n",
    "            soup = BeautifulSoup(response.text, 'html.parser')\n",
    "            return soup\n",
    "        return None\n",
    "\n",
    "url = \"https://www.esiee.fr/\"\n",
    "soup = HTTP.obj_soup(HTTP(),url)\n",
    "print(soup.find_all(\"title\"))\n",
    "print(soup.find_all(\"H1\"))\n",
    "#print(soup.find_all(\"img\"))\n",
    "links = [a['href'] for a in soup.find_all(\"a\",href=True) if a['href'].startswith(\"http\")] \n",
    "print(links)\n",
    "#print(soup.find_all(class_=\"text-center\"))"
   ],
   "outputs": [
    {
     "name": "stdout",
     "output_type": "stream",
     "text": [
      "[<title>ESIEE Paris, l'école de l'innovation technologique | ESIEE Paris</title>]\n",
      "[]\n",
      "['http://esiee.jobteaser.com/fr/recruiter_account/job_offers', 'https://www.cge.asso.fr/', 'https://www.cti-commission.fr/', 'https://www.cti-commission.fr/la-cti/demarche-qualite/systeme-qe/eur-ace', 'https://www.enseignementsup-recherche.gouv.fr/fr/labels-des-formations-controlees-par-l-etat-46088', 'https://www.facebook.com/esieeparis', 'https://www.instagram.com/esieeparis/', 'https://www.linkedin.com/edu/school?id=20041&trk=tyah&trkInfo=idx%3A4-1-4%2CtarId%3A1425998561386%2Ctas%3Aesiee+paris', 'https://twitter.com/ESIEEPARIS', 'http://www.youtube.com/esieeparis', 'https://www.cci-paris-idf.fr/fr/education', 'https://www.univ-gustave-eiffel.fr/', 'https://www.esiee.fr/actualites/classements']\n"
     ]
    }
   ],
   "execution_count": 236
  },
  {
   "cell_type": "markdown",
   "metadata": {},
   "source": [
    "# Exploitation des appels d'API\n"
   ]
  },
  {
   "cell_type": "markdown",
   "metadata": {},
   "source": [
    "\n",
    "Losque le front du site récupère des données sur une API gérée par le back, un appel d'API est réalisé. Cet appel est recensé dans les appels réseaux. Il est alors possible de re-jouer cet appel pour récupérer à nouveau les données. Il est très facile de récupérer ces appels dans l'onglet Network de la console développeur de Chrome ou FireFox. La console vous permet de copier le code CURL de la requête et vous pouvez ensuite la transformer en code Python depuis le site https://curl.trillworks.com/.\n",
    "\n",
    "Souvent les APIs sont bloquées avec certains paramètres. L'API vérifie que dans les headers de la requête HTTP ces paramètres sont présents :\n",
    "* un token généré à la volée avec des protocoles OAuth2 (ou moins développés).\n",
    "* un referer provenant du site web (la source de la requête), très facile à falsifier.\n",
    "\n"
   ]
  },
  {
   "cell_type": "markdown",
   "metadata": {},
   "source": [
    "## Exercice \n",
    "### Exercice 4\n",
    "\n",
    "- Utiliser les informations développées plus haut pour récupérer les premiers résultats d'une recherche d'une requête\n",
    "sur Google. \n",
    "\n",
    "Tips : \n",
    "\n",
    "- Ouvrir les outils de développements de Chrome ou Firefox\n",
    "- Onglet Network\n",
    "- Fouiller dans les requêtes pour voir à quoi ressemble un appel API Google\n",
    "- Utilisez beautiful soup pour convertir le contenu de la request en objet et accéder aux balises"
   ]
  },
  {
   "cell_type": "markdown",
   "metadata": {},
   "source": [
    "# Exercice Final  "
   ]
  },
  {
   "cell_type": "markdown",
   "metadata": {},
   "source": [
    "Exercice Final\n",
    "Utilisez tout ce que vous avez appris pour récupérer des articles de News avec une catégorie. Il est souvent intéressant de partir des flux RSS pour commencer :\n",
    "\n",
    "Les données doivent comprendre :\n",
    "- Le texte important propre\n",
    "- L'url\n",
    "- Le domaine\n",
    "- la catégorie\n",
    "- Le titre de l'article\n",
    "- Le titre de la page\n",
    "- (Facultatif) : les images\n",
    "\n",
    "Tips : \n",
    "\n",
    "- Taper le nom de votre média favoris + RSS (par exemple : https://www.lemonde.fr/rss/)\n",
    "- Aller dans le DOM de la page \n",
    "- Trouver les catégories et les liens vers les articles"
   ]
  },
  {
   "metadata": {
    "ExecuteTime": {
     "end_time": "2024-11-12T15:30:03.027034Z",
     "start_time": "2024-11-12T15:30:01.551550Z"
    }
   },
   "cell_type": "code",
   "source": [
    "import random\n",
    "import requests\n",
    "from bs4 import BeautifulSoup\n",
    "from urllib.parse import urlparse\n",
    "\n",
    "class HTTP:\n",
    "    def __init__(self, default_timeout=3):\n",
    "        self.user_agents = [\n",
    "            \"Mozilla/5.0 (compatible; Googlebot/2.1; +http://www.google.com/bot.html)\",\n",
    "            \"Mozilla/4.0 (compatible; MSIE 5.01; Windows NT 5.0)\",\n",
    "            \"Mozilla/5.0 (Windows; U; Windows NT 5.1; fr; rv:1.8.1) VoilaBot BETA 1.2 (support.voilabot@orange-ftgroup.com)\",\n",
    "            \"Mozilla/5.0 (compatible; bingbot/2.0; +http://www.bing.com/bingbot.htm)\",\n",
    "            \"Mozilla/5.0 (Windows NT 5.1; rv:13.0) Gecko/20100101 Firefox/13.0.1\",\n",
    "            \"Mozilla/5.0 (Windows NT 5.1; rv:5.0.1) Gecko/20100101 Firefox/5.0.1\",\n",
    "            \"Mozilla/5.0 (Windows NT 6.1; WOW64; rv:5.0) Gecko/20100101 Firefox/5.0\",\n",
    "            \"Mozilla/5.0 (Windows NT 6.1; WOW64) AppleWebKit/535.1 (KHTML, like Gecko) Chrome/13.0.782.112 Safari/535.1\",\n",
    "            \"Mozilla/5.0 (Windows NT 6.0) AppleWebKit/535.1 (KHTML, like Gecko) Chrome/13.0.782.112 Safari/535.1\"\n",
    "        ]\n",
    "        self.default_timeout = default_timeout\n",
    "        self.headers = {'User-Agent': random.choice(self.user_agents)}\n",
    "\n",
    "    def get(self, url, timeout=None, retries=3):\n",
    "        if timeout is None:\n",
    "            timeout = self.default_timeout\n",
    "        try:\n",
    "            response = requests.get(url, headers=self.headers, timeout=timeout)\n",
    "            return response\n",
    "        except requests.exceptions.RequestException:\n",
    "            if retries > 0:\n",
    "                return self.get(url, timeout, retries - 1)\n",
    "            else:\n",
    "                return None\n",
    "\n",
    "    def obj_soup(self, url):\n",
    "        response = self.get(url)\n",
    "        if response:\n",
    "            soup = BeautifulSoup(response.text, 'html.parser')\n",
    "            return soup\n",
    "        return None\n",
    "\n",
    "def extract_data(url):\n",
    "    http = HTTP()\n",
    "    soup = http.obj_soup(url)\n",
    "    if not soup:\n",
    "        return []\n",
    "\n",
    "    articles_data = []\n",
    "\n",
    "    for section in soup.find_all('section', class_='teaser teaser--inline-picture'):\n",
    "        article_url = section.find('a', class_='teaser__link')['href']\n",
    "        article_title = section.find('h3', class_='teaser__title').text.strip()\n",
    "        article_description = section.find('p', class_='teaser__desc').text.strip()\n",
    "        article_date = section.find('span', class_='meta__date').text.strip()\n",
    "        article_author = section.find('span', class_='meta__author meta__author--page').text.strip()\n",
    "\n",
    "        articles_data.append({\n",
    "            'title': article_title,\n",
    "            'url': article_url,\n",
    "            'description': article_description,\n",
    "            'date': article_date,\n",
    "            'author': article_author\n",
    "        })\n",
    "\n",
    "    return articles_data\n",
    "\n",
    "# Exemple d'utilisation\n",
    "url = \"https://www.lemonde.fr/economie-mondiale/\"\n",
    "articles_data = extract_data(url)\n",
    "\n",
    "for article in articles_data:\n",
    "    print(article)\n"
   ],
   "outputs": [
    {
     "name": "stdout",
     "output_type": "stream",
     "text": [
      "{'title': 'Les bateaux européens vont cesser de\\xa0pêcher au\\xa0Sénégal à\\xa0la\\xa0suite du\\xa0non-renouvellement d’un accord', 'url': 'https://www.lemonde.fr/afrique/article/2024/11/12/les-bateaux-europeens-vont-cesser-de-pecher-au-senegal-apres-le-non-renouvellement-d-un-accord_6390125_3212.html', 'description': 'La Commission européenne avait adressé en mai un «\\xa0carton jaune\\xa0» au pays, jugé «\\xa0non coopératif\\xa0» dans la lutte contre la pêche illicite. Dix-huit navires espagnols et français sont affectés par cette décision.', 'date': 'Publié aujourd’hui à 16h12, modifié à 16h24', 'author': 'Le Monde avec AFP'}\n",
      "{'title': '«\\xa0Après la croissance sans emploi qui menace les pays riches, faut-il craindre un développement sans emploi\\xa0dans les économies à bas revenu\\xa0?\\xa0»', 'url': 'https://www.lemonde.fr/idees/article/2024/11/12/apres-la-croissance-sans-emploi-qui-menace-les-pays-riches-faut-il-craindre-un-developpement-sans-emploi-dans-les-economies-a-bas-revenu_6389984_3232.html', 'description': 'Pour les pays émergents, où vivent 1,2\\xa0milliard de jeunes, c’est la rareté des emplois qui les pousse à l’exil et qui menace l’équilibre interne de ces Etats, mais aussi les nations riches, rappelle, dans sa chronique, Julien Bouissou, journaliste au «\\xa0Monde\\xa0».', 'date': 'Publié aujourd’hui à 15h00', 'author': 'Julien Bouissou'}\n",
      "{'title': '«\\xa0Les coupes budgétaires prévues dans l’aide au développement causeront de graves dommages, pour les plus vulnérables et pour la réputation de la France\\xa0»', 'url': 'https://www.lemonde.fr/idees/article/2024/11/11/les-coupes-budgetaires-prevues-dans-l-aide-au-developpement-causeront-de-graves-dommages-pour-les-plus-vulnerables-et-pour-la-reputation-de-la-france_6388258_3232.html', 'description': 'Une soixantaine de collectifs alertent, dans une tribune au «\\xa0Monde\\xa0», sur la baisse des aides internationales prévues par le gouvernement. Ces dernières années, «\\xa0la France a fait preuve de leadership mais la dernière proposition de budget raconte une autre histoire\\xa0», déplorent-ils.', 'date': 'Publié hier à 16h00', 'author': 'Collectif'}\n",
      "{'title': '«\\xa0La coquille Saint-Jacques se laisse draguer\\xa0»', 'url': 'https://www.lemonde.fr/economie/article/2024/11/09/la-coquille-saint-jacques-se-laisse-draguer_6384861_3234.html', 'description': 'L’arrivée près des côtes hexagonales d’un bateau belge venu pêcher le bivalve a entraîné des tensions avec les marins normands. Les Français, tenus de respecter des règles nécessaires à la reconstitution de cette ressource très convoitée, défendent leur pré carré face aux Britanniques et aux Belges, observe Laurence Girard, journaliste au «\\xa0Monde\\xa0».', 'date': 'Publié le 09 novembre 2024 à 11h00', 'author': 'Laurence Girard'}\n",
      "{'title': 'A Bombay, le plus grand bidonville d’Asie menacé par la convoitise des promoteurs immobiliers', 'url': 'https://www.lemonde.fr/economie/article/2024/11/08/a-bombay-le-plus-grand-bidonville-d-asie-menace-par-la-convoitise-des-promoteurs-immobiliers_6382648_3234.html', 'description': 'Dans la mégalopole indienne, le quartier de Dharavi, avec près d’un\\xa0million d’habitants vivant dans des conditions insalubres, est au cœur de la spéculation immobilière qui fait rage dans le pays. Le magnat Gautam Adani projette de le remplacer par un quartier d’affaires, expulsant une partie des résidents et des artisans.', 'date': 'Publié le 08 novembre 2024 à 05h00, modifié le 08 novembre 2024 à 12h22', 'author': 'Sophie Landrin'}\n",
      "{'title': 'Avec Donald Trump, le risque d’une multiplication des guerres commerciales', 'url': 'https://www.lemonde.fr/international/article/2024/11/06/avec-donald-trump-le-risque-d-une-multiplication-des-guerres-commerciales_6380318_3210.html', 'description': 'Durant sa campagne électorale, le nouveau président élu des Etats-Unis a menacé d’imposer des droits de douane de 60\\xa0% sur la Chine, mais aussi de 10\\xa0% sur toute l’Europe.', 'date': 'Publié le 06 novembre 2024 à 20h48, modifié le 07 novembre 2024 à 08h53', 'author': 'Eric Albert'}\n",
      "{'title': 'Economie\\xa0: «\\xa0Le risque majeur est que Trump tienne ses promesses de campagne\\xa0»', 'url': 'https://www.lemonde.fr/idees/article/2024/11/06/economie-le-risque-majeur-est-que-trump-tienne-ses-promesses-de-campagne_6379785_3232.html', 'description': 'L’imposition de droits de douane de 10\\xa0% à 20\\xa0% à toutes les importations tout comme une politique migratoire trop stricte pourraient porter un mauvais coup à l’économie américaine, qui jouit d’une excellente santé, diagnostique l’économiste Jason Furman, dans une tribune au «\\xa0Monde\\xa0».', 'date': 'Publié le 06 novembre 2024 à 16h30, modifié le 06 novembre 2024 à 16h46', 'author': 'Jason Furman'}\n",
      "{'title': 'En Europe, l’économie résiste péniblement au troisième trimestre', 'url': 'https://www.lemonde.fr/economie/article/2024/10/30/en-europe-l-economie-resiste-peniblement-au-troisieme-trimestre_6367442_3234.html', 'description': 'Au troisième trimestre, la croissance de la zone euro atteint 0,4\\xa0%. Une hausse en trompe-l’œil, soutenue par les Jeux olympiques à Paris, des anomalies statistiques en Irlande et la bonne santé économique de l’Espagne.', 'date': 'Publié le 30 octobre 2024 à 16h36, modifié le 30 octobre 2024 à 18h08', 'author': 'Eric Albert'}\n",
      "{'title': 'Les flottes fantômes, atout stratégique de la Russie pour écouler son pétrole sous sanction', 'url': 'https://www.lemonde.fr/les-decodeurs/article/2024/10/30/les-flottes-fantomes-atout-strategique-de-la-russie-pour-ecouler-son-petrole-sous-sanction_6367064_4355770.html', 'description': 'Des centaines de tankers clandestins sillonnent les mers avec des pavillons de complaisance et des propriétaires opaques, assurant à Moscou de conserver sa rente pétrolière en pleine guerre contre l’Ukraine.', 'date': 'Publié le 30 octobre 2024 à 14h00', 'author': 'Julien Bouissou'}\n",
      "{'title': 'La Chine en quête de relance économique', 'url': 'https://www.lemonde.fr/economie/article/2024/10/29/la-chine-en-quete-de-relance-economique_6364348_3234.html', 'description': 'Confronté au ralentissement de la croissance, Pékin multiplie les annonces de soutien sectoriel, mais est réticent à apporter une aide directe aux Chinois eux-mêmes, qui préfèrent épargner plutôt que consommer, analyse, dans sa chronique, Harold Thibault.', 'date': 'Publié le 29 octobre 2024 à 07h00', 'author': 'Harold Thibault'}\n",
      "{'title': 'La ruée vers l’énergie solaire, grande gagnante de la bataille de la compétitivité', 'url': 'https://www.lemonde.fr/economie/article/2024/10/27/la-ruee-vers-l-energie-solaire-grande-gagnante-de-la-bataille-de-la-competitivite_6360750_3234.html', 'description': 'Universel, adaptable et très peu cher, le photovoltaïque est voué à remplacer le pétrole comme principale source d’énergie primaire. Mais les défis restent immenses.', 'date': 'Publié le 27 octobre 2024 à 05h00, modifié le 28 octobre 2024 à 10h24', 'author': 'Marjorie Cessac'}\n",
      "{'title': 'Matières premières\\xa0: «\\xa0Le champagne est sur la réserve\\xa0»', 'url': 'https://www.lemonde.fr/economie/article/2024/10/26/matieres-premieres-le-champagne-est-sur-la-reserve_6360338_3234.html', 'description': 'Boudé par les Américains, sous pression de l’inflation, le célèbre vin à bulles a vu aussi ses rendements faiblir en raison de la météo. Mais les vignerons vont pouvoir puiser dans leur stock de précaution pour passer ce trou d’air, note Laurence Girard, journaliste au «\\xa0Monde\\xa0».', 'date': 'Publié le 26 octobre 2024 à 15h00', 'author': 'Laurence Girard'}\n",
      "{'title': 'Entre l’Algérie et le Maroc, une «\\xa0guerre des gazoducs\\xa0» sur fond d’illusions', 'url': 'https://www.lemonde.fr/afrique/article/2024/10/26/entre-l-algerie-et-le-maroc-une-guerre-des-gazoducs-sur-fond-d-illusions_6360128_3212.html', 'description': '«\\xa0L’Afrique toujours accro aux hydrocarbures\\xa0» (6/6). Les deux frères ennemis du Maghreb s’affrontent durement autour de deux projets concurrents visant à acheminer le gaz du Nigeria vers l’Europe, alors même que leur viabilité est sujette à caution.', 'date': 'Publié le 26 octobre 2024 à 06h00, modifié le 28 octobre 2024 à 08h58', 'author': 'Frédéric Bobin'}\n",
      "{'title': 'La Côte d’Ivoire mise à la fois sur les énergies vertes et les énergies fossiles', 'url': 'https://www.lemonde.fr/afrique/article/2024/10/25/la-cote-d-ivoire-mise-a-la-fois-sur-les-energies-vertes-et-les-energies-fossiles_6359441_3212.html', 'description': '«\\xa0L’Afrique toujours accro aux hydrocarbures\\xa0» (5/6). Le pays, qui développe des projets dans le solaire et la biomasse, n’entend pas tirer un trait sur ses mégagisements offshore de pétrole et de gaz, dont l’exploitation ne fait que commencer.', 'date': 'Publié le 25 octobre 2024 à 06h00', 'author': 'Arnaud Deux'}\n",
      "{'title': 'En Nouvelle-Calédonie, l’Etat accorde 20\\xa0millions d’euros d’aide à la Société Le Nickel', 'url': 'https://www.lemonde.fr/economie-francaise/article/2024/10/24/en-nouvelle-caledonie-l-etat-accorde-20-millions-d-euros-d-aide-a-la-societe-le-nickel_6359256_1656968.html', 'description': 'Le soutien financier de l’Etat a déjà permis à la SLN de continuer partiellement son activité et de «\\xa0sauver ses fours\\xa0», malgré les émeutes et autres violences qui traversent l’île ainsi qu’une «\\xa0situation politique complexe\\xa0». Dans une entreprise sidérurgique de ce type, des fours arrêtés sont quasiment impossibles à rallumer.', 'date': 'Publié le 24 octobre 2024 à 21h12', 'author': 'Le Monde avec AFP'}\n",
      "{'title': 'Avec son «\\xa0Petroleum Hub\\xa0», le Ghana se rêve en premier raffineur d’Afrique de l’Ouest', 'url': 'https://www.lemonde.fr/afrique/article/2024/10/23/avec-son-petroleum-hub-le-ghana-se-reve-en-premier-raffineur-d-afrique-de-l-ouest_6358425_3212.html', 'description': '«\\xa0L’Afrique toujours accro aux hydrocarbures\\xa0» (3/6). Le pays entend mettre fin à sa dépendance aux importations de carburant et même devenir le plus gros exportateur de la sous-région. Un projet ambitieux, mais difficilement réalisable, selon des experts.', 'date': 'Publié le 23 octobre 2024 à 05h15', 'author': 'Victor Cariou'}\n",
      "{'title': 'La croissance molle menace l’économie mondiale, s’alarme le FMI', 'url': 'https://www.lemonde.fr/economie/article/2024/10/22/la-croissance-molle-menace-l-economie-mondiale-s-alarme-le-fmi_6358202_3234.html', 'description': 'La longue atonie de la Chine, le vieillissement généralisé et le retour du protectionnisme laissent entrevoir des perspectives médiocres, qui font peser un risque sur la prospérité, mais aussi sur les équilibres sociaux et environnementaux.', 'date': 'Publié le 22 octobre 2024 à 15h00, modifié le 23 octobre 2024 à 05h51', 'author': 'Julien Bouissou'}\n",
      "{'title': 'Sommet des BRICS\\xa0: comment la guerre en Ukraine accélère l’usage international du yuan', 'url': 'https://www.lemonde.fr/economie/article/2024/10/22/sommet-des-brics-comment-la-guerre-en-ukraine-accelere-l-usage-international-du-yuan_6358021_3234.html', 'description': 'La Chine, qui a intensifié ses échanges avec la Russie, sous sanctions occidentales, promeut l’utilisation des devises nationales afin de contourner la domination du dollar.', 'date': 'Publié le 22 octobre 2024 à 06h58, modifié le 22 octobre 2024 à 07h18', 'author': 'Harold Thibault'}\n",
      "{'title': 'La Namibie, nouvel eldorado africain du pétrole offshore', 'url': 'https://www.lemonde.fr/afrique/article/2024/10/22/la-namibie-nouvel-eldorado-africain-du-petrole-offshore_6357908_3212.html', 'description': '«\\xa0L’Afrique toujours accro aux hydrocarbures\\xa0» (2/6). Pays producteur à l’horizon\\xa02030, la Namibie disposerait de réserves offshore d’environ 11\\xa0milliards de barils à 280\\xa0kilomètres de ses côtes. Selon les autorités, le pétrole va permettre de doubler le PIB d’ici à 2040.', 'date': 'Publié le 22 octobre 2024 à 05h00', 'author': 'Noé Hochet-Bodin'}\n",
      "{'title': 'Le fabricant de drones chinois DJI poursuit le Pentagone pour l’avoir inscrit sur sa liste noire', 'url': 'https://www.lemonde.fr/pixels/article/2024/10/21/le-fabricant-de-drones-chinois-dji-poursuit-le-pentagone-pour-l-avoir-inscrit-sur-sa-liste-noire_6357466_4408996.html', 'description': 'Les nuages s’amoncellent sur les ventes du groupe aux Etats-Unis. Le fabricant chinois semble désormais prêt à recourir à l’arme juridique pour se défendre.', 'date': 'Publié le 21 octobre 2024 à 12h09, modifié le 25 octobre 2024 à 20h55', 'author': 'Le Monde'}\n",
      "{'title': 'Au Nigeria, la mégaraffinerie d’Aliko Dangote tiendra-t-elle ses promesses\\xa0?', 'url': 'https://www.lemonde.fr/afrique/article/2024/10/21/au-nigeria-la-megaraffinerie-d-aliko-dangote-tiendra-t-elle-ses-promesses_6357116_3212.html', 'description': '«\\xa0L’Afrique toujours accro aux hydrocarbures\\xa0» (1/6). Alors que le premier producteur africain d’or noir était jusqu’ici contraint d’importer l’essentiel de son carburant, l’entrée en service de cette infrastructure titanesque devrait enfin changer la donne.', 'date': 'Publié le 21 octobre 2024 à 04h15, modifié le 21 octobre 2024 à 09h52', 'author': 'Marion Douet'}\n",
      "{'title': 'La fièvre de l’or\\xa0: «\\xa0En\\xa01994, il valait 8\\xa0000\\xa0euros le kilo. C’est 73\\xa0000\\xa0euros maintenant\\xa0»', 'url': 'https://www.lemonde.fr/m-perso/article/2024/10/19/la-fievre-de-l-or-en-1994-il-valait-8-000-euros-le-kilo-c-est-73-000-euros-maintenant_6356182_4497916.html', 'description': 'Le métal précieux est considéré comme une valeur refuge en période d’incertitude, de crise et de conflit armé.', 'date': 'Publié le 19 octobre 2024 à 19h00', 'author': 'Pascale Krémer'}\n",
      "{'title': 'Avec les zinzins de la Bourse, grain de folie sur le café', 'url': 'https://www.lemonde.fr/economie/article/2024/10/19/avec-les-zinzins-de-la-bourse-grain-de-folie-sur-le-cafe_6355847_3234.html', 'description': 'La spéculation et les conditions climatiques défavorables dans les pays producteurs – incendies au Brésil et vagues de chaleur au Vietnam – ont contribué à échauffer les cours, observe Laurence Girard, journaliste économique au «\\xa0Monde\\xa0».', 'date': 'Publié le 19 octobre 2024 à 10h30, modifié le 19 octobre 2024 à 10h51', 'author': 'Laurence Girard'}\n",
      "{'title': 'Ces Français qui revendent leur or\\xa0: «\\xa0De toute façon, les bijoux, je ne les porte plus\\xa0»', 'url': 'https://www.lemonde.fr/m-perso/article/2024/10/19/ces-francais-qui-revendent-leur-or-de-toute-facon-les-bijoux-je-ne-les-porte-plus_6355667_4497916.html', 'description': 'En cinq ans, les prix de l’or ont doublé. Une flambée qui attire de nombreux Français désireux d’arrondir les fins de mois ou d’aider leurs proches. Mais cette frénésie attise la convoitise des escrocs.', 'date': 'Publié le 19 octobre 2024 à 06h00, modifié le 19 octobre 2024 à 11h49', 'author': 'Pascale Krémer'}\n",
      "{'title': 'En RDC, pour revenir dans la course aux minerais stratégiques, les Etats-Unis négocient avec Dan Gertler', 'url': 'https://www.lemonde.fr/afrique/article/2024/10/17/en-rdc-pour-revenir-dans-la-course-aux-minerais-strategiques-les-etats-unis-negocient-avec-dan-gertler_6353961_3212.html', 'description': 'Alors que la Chine contrôle la plus grande partie de la production mondiale de terres rares, les actifs congolais de l’homme d’affaires israélien intéressent Washington. Au point de lever les sanctions qui pèsent sur lui\\xa0?', 'date': 'Publié le 17 octobre 2024 à 06h30, modifié le 17 octobre 2024 à 10h13', 'author': 'Sonia Rolley'}\n",
      "{'title': 'Présidentielle américaine\\xa0: Donald Trump et Kamala Harris à la conquête des patrons', 'url': 'https://www.lemonde.fr/economie/article/2024/10/17/etats-unis-donald-trump-et-kamala-harris-a-la-conquete-des-patrons_6353962_3234.html', 'description': '«\\xa0L’économie, enjeu d’une Amérique fracturée\\xa0» (3/5). Hormis quelques personnalités, rares sont les chefs d’entreprise à soutenir ouvertement le républicain Donald Trump, dont l’irrationalité inquiète. Une défiance dont voudrait profiter la candidate démocrate.', 'date': 'Publié le 17 octobre 2024 à 06h30, modifié le 08 novembre 2024 à 17h43', 'author': 'Arnaud Leparmentier'}\n",
      "{'title': 'Pétrole en RDC\\xa0: le gouvernement acte l’échec de son appel aux investisseurs étrangers', 'url': 'https://www.lemonde.fr/afrique/article/2024/10/16/petrole-en-rdc-le-gouvernement-acte-l-echec-de-son-appel-aux-investisseurs-etrangers_6353361_3212.html', 'description': 'Le ministère congolais des hydrocarbures a annoncé l’annulation de l’appel d’offres lancé en\\xa02022\\xa0sur 27\\xa0blocs pétroliers. Mais il assure qu’un nouveau projet va être préparé.', 'date': 'Publié le 16 octobre 2024 à 10h57', 'author': 'Laurence Caramel'}\n",
      "{'title': 'Le prix Nobel d’économie 2024\\xa0attribué à\\xa0Daron Acemoglu, Simon Johnson et\\xa0James Robinson pour leurs recherches sur les différences de\\xa0prospérité entre\\xa0les nations', 'url': 'https://www.lemonde.fr/economie/article/2024/10/14/le-prix-nobel-d-economie-2024-attribue-a-daron-acemoglu-simon-johnson-et-james-robinson-pour-leurs-recherches-sur-les-differences-de-prosperite-entre-les-nations_6351558_3234.html', 'description': 'Après l’Américaine Claudia Goldin, primée en\\xa02023 pour ses travaux sur l’évolution de la place des femmes sur le marché de l’emploi, le comité Nobel a récompensé les trois chercheurs.', 'date': 'Publié le 14 octobre 2024 à 12h06, modifié le 14 octobre 2024 à 13h37', 'author': 'Le Monde avec AFP'}\n",
      "{'title': 'L’Afrique subsaharienne prise au «\\xa0piège\\xa0» d’une croissance trop faible', 'url': 'https://www.lemonde.fr/afrique/article/2024/10/14/l-afrique-subsaharienne-prise-au-piege-d-une-croissance-trop-faible_6351554_3212.html', 'description': 'La reprise économique dans la région demeure «\\xa0à la traîne\\xa0» par rapport au reste du monde, selon la Banque mondiale, qui préconise d’investir davantage dans l’éducation.', 'date': 'Publié le 14 octobre 2024 à 12h05, modifié le 15 octobre 2024 à 09h16', 'author': 'Marie de Vergès'}\n",
      "{'title': 'Le juste prix, obsession de toujours des économistes', 'url': 'https://www.lemonde.fr/economie/article/2024/10/13/le-juste-prix-obsession-de-toujours-des-economistes_6351071_3234.html', 'description': 'Eternelle question de la science économique, la détermination des prix a connu de nouveaux bouleversements théoriques avec l’émergence de la tarification dynamique dans la seconde moitié du XXᵉ\\xa0siècle.', 'date': 'Publié le 13 octobre 2024 à 18h30', 'author': 'Sylvie Andreau'}\n",
      "{'title': 'Tarifs douaniers\\xa0: «\\xa0Ce que Trump propose est en réalité une redistribution massive des revenus en faveur des Américains les plus riches\\xa0»', 'url': 'https://www.lemonde.fr/idees/article/2024/10/09/tarifs-douaniers-ce-que-trump-propose-est-en-realite-une-redistribution-massive-des-revenus-en-faveur-des-americains-les-plus-riches_6347112_3232.html', 'description': 'L’économiste Simon Johnson explique, dans sa chronique, que la proposition du candidat républicain d’augmenter les droits de douane sur les produits importés aux Etats-Unis affecterait l’ensemble des ménages américains, et particulièrement les travailleurs à faible revenu.', 'date': 'Publié le 09 octobre 2024 à 06h00', 'author': 'Simon Johnson'}\n",
      "{'title': 'Aux Etats-Unis, les dockers gagnent leur bras de fer avec les géants du fret, sur fond de campagne présidentielle', 'url': 'https://www.lemonde.fr/economie/article/2024/10/04/aux-etats-unis-les-dockers-gagnent-leur-bras-de-fer-avec-les-geants-du-fret-sur-fond-de-campagne-presidentielle_6343244_3234.html', 'description': 'Après trois jours de grève, les syndicats ont obtenu une hausse de salaire de 62\\xa0% sur six\\xa0ans. Une victoire saluée par le président américain, Joe Biden.', 'date': 'Publié le 04 octobre 2024 à 04h49, modifié le 04 octobre 2024 à 06h09', 'author': 'Arnaud Leparmentier'}\n",
      "{'title': 'Royaume-Uni, Italie, Grèce… les leçons de l’austérité en Europe', 'url': 'https://www.lemonde.fr/economie/article/2024/10/01/royaume-uni-italie-grece-les-lecons-de-l-austerite-en-europe_6341042_3234.html', 'description': 'Alors que le premier ministre, Michel Barnier, a annoncé des coupes budgétaires pour 2025, la comparaison avec les autres pays européens montre les limites de l’austérité et le risque de casse sociale, mais aussi les dangers à trop laisser filer un déficit hors période de crise.', 'date': 'Publié le 01 octobre 2024 à 23h24, modifié le 02 octobre 2024 à 14h32', 'author': 'Eric Albert'}\n",
      "{'title': 'En Irlande, un excédent budgétaire historique qui dépend du détournement des impôts du reste de l’Europe', 'url': 'https://www.lemonde.fr/economie/article/2024/09/30/en-irlande-un-excedent-budgetaire-historique-qui-depend-du-detournement-des-impots-du-reste-de-l-europe_6339796_3234.html', 'description': 'Le gouvernement irlandais présente mardi un budget en excédent pour la troisième année d’affilée, venant largement des revenus exceptionnels des multinationales américaines.', 'date': 'Publié le 30 septembre 2024 à 14h00', 'author': 'Eric Albert'}\n",
      "{'title': 'Matières premières\\xa0: «\\xa0L’or et les sortilèges\\xa0»', 'url': 'https://www.lemonde.fr/economie/article/2024/09/28/matieres-premieres-l-or-et-les-sortileges_6337590_3234.html', 'description': 'Le métal précieux est entré en ébullition fin 2023. Depuis, le creuset de la spéculation ne cesse d’alimenter la flamme. Et la magie des prédictions attise l’ardeur des investisseurs, observe Laurence Girard, journaliste économique au «\\xa0Monde\\xa0».', 'date': 'Publié le 28 septembre 2024 à 10h00', 'author': 'Laurence Girard'}\n",
      "{'title': 'Delphine Batho, députée, et Olivier De Schutter, juriste\\xa0: «\\xa0Nous refusons l’idée qu’il faudrait choisir entre lutte contre la pauvreté et respect des limites planétaires\\xa0»', 'url': 'https://www.lemonde.fr/idees/article/2024/09/28/delphine-batho-deputee-et-olivier-de-schutter-juriste-nous-refusons-l-idee-qu-il-faudrait-choisir-entre-lutte-contre-la-pauvrete-et-respect-des-limites-planetaires_6337450_3232.html', 'description': 'La députée écologiste et le rapporteur spécial de l’ONU sur les droits humains et l’extrême pauvreté rappellent, dans une tribune au «\\xa0Monde\\xa0», que la protection de la planète passe par la réduction des inégalités.', 'date': 'Publié le 28 septembre 2024 à 07h00, modifié le 28 septembre 2024 à 09h56', 'author': 'Olivier De Schutter'}\n",
      "{'title': 'Au Gabon, la filière bois au défi de l’industrialisation et de la certification', 'url': 'https://www.lemonde.fr/afrique/article/2024/09/26/au-gabon-la-filiere-bois-au-defi-de-l-industrialisation-et-de-la-certification_6335251_3212.html', 'description': 'Après le pétrole, l’exploitation des forêts est un pilier de l’économie du pays, premier exportateur africain de bois. Si le marché chinois s’est effondré en\\xa02023, les nouvelles autorités continuent d’appeler à la valorisation de cette ressource.', 'date': 'Publié le 26 septembre 2024 à 17h00', 'author': 'Christophe Châtelot'}\n",
      "{'title': 'En Allemagne, l’économie devrait encore se contracter en\\xa02024', 'url': 'https://www.lemonde.fr/economie/article/2024/09/26/en-allemagne-l-economie-devrait-encore-se-contracter-en-2024_6335178_3234.html', 'description': 'Les plus grands instituts économiques du pays tablent sur un recul du PIB de 0,1\\xa0% en\\xa02024. La reprise, attendue pour 2025, devrait rester modérée.', 'date': 'Publié le 26 septembre 2024 à 16h19, modifié le 26 septembre 2024 à 16h40', 'author': 'Cécile Boutelet'}\n",
      "{'title': 'Partout sur la planète, les barrières douanières s’érigent et le ton monte contre les excédents géants de la Chine', 'url': 'https://www.lemonde.fr/economie/article/2024/09/26/partout-sur-la-planete-les-barrieres-douanieres-s-erigent-et-le-ton-monte-contre-les-excedents-geants-de-la-chine_6334307_3234.html', 'description': 'L’activisme commercial des Chinois fait déferler sur le monde un surplus de biens qui déstabilise les économies et exacerbe les tensions. De son côté, Pékin tente de contourner les droits de douane en investissant localement.', 'date': 'Publié le 26 septembre 2024 à 06h00, modifié le 26 septembre 2024 à 08h41', 'author': 'Julien Bouissou'}\n",
      "{'title': 'Donald Trump promet la guerre commerciale aux entreprises qui ne produisent pas aux Etats-Unis', 'url': 'https://www.lemonde.fr/economie/article/2024/09/25/donald-trump-promet-la-guerre-commerciale-aux-entreprises-qui-ne-produisent-pas-aux-etats-unis_6332570_3234.html', 'description': 'Pour forcer la relocalisation de l’industrie, le candidat républicain promet, s’il est élu, des hausses de droits de douane sur les importations de certains produits et des baisses d’impôt pour les compagnies qui s’installent dans le pays. Une stratégie qui nuirait aux ménages à bas et moyens revenus.', 'date': 'Publié le 25 septembre 2024 à 03h54, modifié le 25 septembre 2024 à 15h09', 'author': 'Arnaud Leparmentier'}\n",
      "{'title': 'La Chine annonce des mesures en série pour tenter de relancer son économie', 'url': 'https://www.lemonde.fr/economie/article/2024/09/24/la-chine-annonce-des-mesures-en-serie-pour-tenter-de-relancer-son-economie_6332139_3234.html', 'description': 'La banque centrale chinoise a baissé ses taux dans l’espoir de soutenir le marché immobilier, au cœur des difficultés traversées par le pays.', 'date': 'Publié le 24 septembre 2024 à 19h51, modifié le 25 septembre 2024 à 08h42', 'author': 'Harold Thibault'}\n",
      "{'title': 'Matières premières\\xa0: «\\xa0Le beurre et l’or du beurre\\xa0»', 'url': 'https://www.lemonde.fr/economie/article/2024/09/21/matieres-premieres-le-beurre-et-l-or-du-beurre_6326317_3234.html', 'description': 'La précieuse denrée se négocie, en cette fin d’été, à près de 8\\xa0000\\xa0euros la tonne. Du jamais-vu.', 'date': 'Publié le 21 septembre 2024 à 10h00', 'author': 'Laurence Girard'}\n",
      "{'title': 'Jean-Yves Douin, économiste\\xa0: «\\xa0Un climat de guerre n’est pas bon pour le climat tout court\\xa0»', 'url': 'https://www.lemonde.fr/idees/article/2024/09/20/jean-yves-douin-economiste-un-climat-de-guerre-n-est-pas-bon-pour-le-climat-tout-court_6325085_3232.html', 'description': 'Dans un contexte de déficit public, les financements consacrés à la dépense militaire ne vont plus être disponibles pour la transition écologique, analyse l’enseignant en économie Jean-Yves Douin dans une tribune au «\\xa0Monde\\xa0».', 'date': 'Publié le 20 septembre 2024 à 06h30', 'author': 'Jean-Yves Douin'}\n",
      "{'title': '«\\xa0La montée du protectionnisme occidental frappe les plus pauvres de la planète\\xa0»', 'url': 'https://www.lemonde.fr/idees/article/2024/09/19/la-montee-du-protectionnisme-occidental-frappe-les-plus-pauvres-de-la-planete_6324073_3232.html', 'description': 'Depuis les années 2010, le fossé s’agrandit de nouveau entre le Nord et le Sud en raison, notamment, du recul de la mondialisation néolibérale, estime dans sa chronique Alain Frachon, éditorialiste au «\\xa0Monde\\xa0».', 'date': 'Publié le 19 septembre 2024 à 11h38', 'author': 'Alain Frachon'}\n",
      "{'title': '«\\xa0La Chine prouve qu’il est possible, à grande échelle, d’opérer rapidement sa transition vers les voitures électriques\\xa0»', 'url': 'https://www.lemonde.fr/economie/article/2024/09/19/la-chine-prouve-qu-il-est-possible-a-grande-echelle-d-operer-rapidement-sa-transition-vers-les-voitures-electriques_6324027_3234.html', 'description': 'A l’inverse des constructeurs européens, l’empire du Milieu vend davantage d’automobiles électriques que de voitures thermiques. La décroissance de ces dernières est cependant plus rapide que prévu, provoquant de nombreuses fermetures d’usines sur le territoire, analyse Philippe Escande, journaliste économique au «\\xa0Monde\\xa0».', 'date': 'Publié le 19 septembre 2024 à 10h36', 'author': 'Philippe Escande'}\n",
      "{'title': 'Aux Etats-Unis, la Fed surprend en annonçant la première forte baisse des taux depuis la pandémie due au Covid-19', 'url': 'https://www.lemonde.fr/economie/article/2024/09/19/aux-etats-unis-la-fed-surprend-en-annoncant-la-premiere-forte-baisse-des-taux-depuis-la-pandemie-de-covid-19_6323659_3234.html', 'description': 'Le président de la banque centrale américaine a annoncé une baisse d’un demi-point\\xa0: ils seront désormais compris entre 4,75\\xa0% et 5\\xa0%. Cela devrait entraîner une baisse des taux des crédits immobiliers.', 'date': 'Publié le 19 septembre 2024 à 05h30, modifié le 19 septembre 2024 à 13h14', 'author': 'Arnaud Leparmentier'}\n",
      "{'title': 'Au Botswana, les diamants ne seront pas éternels', 'url': 'https://www.lemonde.fr/afrique/article/2024/09/18/au-botswana-les-diamants-ne-seront-pas-eternels_6323144_3212.html', 'description': 'Les ventes de pierres précieuses représentent un quart du PIB du pays, mais la chute des cours mondiaux le pousse à diversifier son économie.', 'date': 'Publié le 18 septembre 2024 à 18h30, modifié le 19 septembre 2024 à 06h30', 'author': 'Noé Hochet-Bodin'}\n",
      "{'title': 'Lois antitrust\\xa0: «\\xa0Presque tout reste à faire dans le combat contre les abus de position dominante des Big Tech\\xa0»', 'url': 'https://www.lemonde.fr/idees/article/2024/09/16/lois-antitrust-presque-tout-reste-a-faire-dans-le-combat-contre-les-abus-de-position-dominante-des-big-tech_6319849_3232.html', 'description': 'A l’heure où Margrethe Vestager, commissaire européenne à la concurrence, va quitter Bruxelles et où Lina Khan, à la tête de la FTC américaine, est sur la sellette, un nouveau front s’ouvre pour les autorités antitrust\\xa0: celui de l’IA générative, analyse dans sa chronique Jean-Michel Bezat, journaliste au «\\xa0Monde\\xa0».', 'date': 'Publié le 16 septembre 2024 à 09h30', 'author': 'Jean-Michel Bezat'}\n",
      "{'title': '«\\xa0Depuis le début de l’année\\xa02024, le cours du fer a fondu de près d’un tiers\\xa0»', 'url': 'https://www.lemonde.fr/economie/article/2024/09/14/depuis-le-debut-de-l-annee-2024-le-cours-du-fer-a-fondu-de-pres-d-un-tiers_6317345_3234.html', 'description': 'Le prix du minerai est passé sous la barre des 90\\xa0dollars la tonne, lundi 9\\xa0septembre, sur le marché à terme de Singapour. Un niveau très bas qui s’explique surtout par l’essoufflement du secteur immobilier chinois, expose Laurence Girard, journaliste économique au «\\xa0Monde\\xa0».', 'date': 'Publié le 14 septembre 2024 à 10h01, modifié le 15 septembre 2024 à 22h40', 'author': 'Laurence Girard'}\n",
      "{'title': 'La Chine se résout à repousser l’âge de la retraite', 'url': 'https://www.lemonde.fr/international/article/2024/09/14/la-chine-se-resout-a-repousser-l-age-de-la-retraite_6316985_3210.html', 'description': 'Les Chinois vont devoir travailler entre trois et cinq ans de plus. Signe de la sensibilité du sujet, la réforme n’entrera que très progressivement en vigueur.', 'date': 'Publié le 14 septembre 2024 à 02h00, modifié le 14 septembre 2024 à 11h10', 'author': 'Harold Thibault'}\n",
      "{'title': '«\\xa0La géopolitique s’invite avec fracas dans un nouveau cycle d’“économie de guerre”\\xa0»', 'url': 'https://www.lemonde.fr/idees/article/2024/09/13/la-geopolitique-s-invite-avec-fracas-dans-un-nouveau-cycle-d-economie-de-guerre_6316215_3232.html', 'description': 'Le financier David Baverez, spécialiste de la Chine, invite, dans une tribune au «\\xa0Monde\\xa0», les entreprises européennes à «\\xa0se réveiller\\xa0» face à la rivalité systémique entre Amérique, Chine et Europe.', 'date': 'Publié le 13 septembre 2024 à 14h00, modifié le 13 septembre 2024 à 14h14', 'author': 'David Baverez'}\n",
      "{'title': 'Sébastien Jean, économiste\\xa0: «\\xa0Les entreprises doivent composer avec les politiques publiques de souveraineté et de sécurité économique\\xa0»', 'url': 'https://www.lemonde.fr/idees/article/2024/09/13/sebastien-jean-economiste-les-entreprises-doivent-composer-avec-les-politiques-publiques-de-souverainete-et-de-securite-economique_6316179_3232.html', 'description': 'L’économiste Sébastien Jean montre, dans une tribune au «\\xa0Monde\\xa0», comment les rivalités entre grandes puissances contraignent les multinationales à revoir leurs stratégies.', 'date': 'Publié le 13 septembre 2024 à 13h30', 'author': 'Sébastien Jean'}\n",
      "{'title': '«\\xa0La montée des protectionnismes et les tensions géopolitiques conduisent à une forte incertitude sur l’évolution du commerce mondial\\xa0»', 'url': 'https://www.lemonde.fr/idees/article/2024/09/13/la-montee-des-protectionnismes-et-les-tensions-geopolitiques-conduisent-a-une-forte-incertitude-sur-l-evolution-du-commerce-mondial_6315942_3232.html', 'description': 'Pour de nombreux dirigeants de firmes internationales, les objectifs de compétitivité et de partage du risque ne sont plus nécessairement conciliables, observe l’économiste Isabelle Méjean dans une tribune au «\\xa0Monde\\xa0».', 'date': 'Publié le 13 septembre 2024 à 12h00, modifié le 13 septembre 2024 à 14h13', 'author': 'Isabelle Méjean'}\n",
      "{'title': 'La France, ce pays où les seniors sont (presque) rois', 'url': 'https://www.lemonde.fr/economie/article/2024/09/13/la-france-ce-pays-qui-regarde-ses-seniors-plus-que-ses-jeunes_6315492_3234.html', 'description': '«\\xa0Un monde de vieux\\xa0». Le vieillissement absorbe une part croissante des ressources du pays, au détriment des investissements dans l’avenir.', 'date': 'Publié le 13 septembre 2024 à 05h45, modifié le 13 septembre 2024 à 12h35', 'author': 'Béatrice Madeline'}\n",
      "{'title': 'Population mondiale : «\\xa0La bombe P n’explosera pas\\xa0»', 'url': 'https://www.lemonde.fr/economie/article/2024/09/12/demographie-la-bombe-p-n-explosera-pas_6314760_3234.html', 'description': 'En dépit des thèses alarmistes d’économistes par le passé, tous les Etats du monde sont aujourd’hui touchés par la transition démographique et la baisse de la natalité, y compris les pays les moins développés, observe Philippe Escande, éditorialiste économique au «\\xa0Monde\\xa0».', 'date': 'Publié le 12 septembre 2024 à 11h59, modifié le 12 septembre 2024 à 12h06', 'author': 'Philippe Escande'}\n",
      "{'title': 'La Grèce face à l’absence de politique publique pour accompagner le vieillissement de la population', 'url': 'https://www.lemonde.fr/economie/article/2024/09/12/la-grece-face-a-l-absence-de-politique-publique-pour-accompagner-le-vieillissement-de-la-population_6314399_3234.html', 'description': '«\\xa0Un monde de vieux\\xa0». Sixième au classement des pays à la population la plus vieillissante\\xa0− 23\\xa0% ont plus de 65\\xa0ans, selon les données d’Eurostat −, la Grèce subit une grave crise démographique.', 'date': 'Publié le 12 septembre 2024 à 07h58, modifié le 13 septembre 2024 à 11h35', 'author': 'Marina Rafenberg'}\n",
      "{'title': 'Dans les campagnes chinoises, le boom des maisons de retraite', 'url': 'https://www.lemonde.fr/economie/article/2024/09/12/dans-les-campagnes-chinoises-le-boom-des-maisons-de-retraite_6314397_3234.html', 'description': '«\\xa0Un monde de vieux\\xa0». Dans un pays au vieillissement accéléré, les actifs ne peuvent pas quitter leurs emplois urbains pour retourner s’occuper des parents restés au village.', 'date': 'Publié le 12 septembre 2024 à 07h57, modifié le 13 septembre 2024 à 11h36', 'author': 'Harold Thibault'}\n",
      "{'title': 'Comment le vieillissement bouleverse nos sociétés', 'url': 'https://www.lemonde.fr/economie/article/2024/09/12/comment-le-vieillissement-bouleverse-nos-societes_6314293_3234.html', 'description': '«\\xa0Un monde de vieux\\xa0». Alors que le début de la génération du baby-boom atteint ses 80\\xa0ans, les pays développés dans leur ensemble sont touchés par un vieillissement historique, accéléré par la récente chute de la natalité. Le choc budgétaire – retraites, santé… – sera majeur.', 'date': 'Publié le 12 septembre 2024 à 06h24, modifié le 13 septembre 2024 à 11h34', 'author': 'Eric Albert'}\n",
      "{'title': '«\\xa0Les Guerres du blé\\xa0»\\xa0: du grain à moudre pour pourfendre l’historiographie classique', 'url': 'https://www.lemonde.fr/idees/article/2024/09/12/les-guerres-du-ble-du-grain-a-moudre-pour-pourfendre-l-historiographie-classique_6314204_3232.html', 'description': 'Le chercheur Alessandro Stanziani analyse, dans un essai, les liens entre le commerce des céréales et les soubresauts de l’histoire.', 'date': 'Publié le 12 septembre 2024 à 05h00', 'author': 'Antoine Reverchon'}\n",
      "{'title': '«\\xa0La moutarde se pique de revanche\\xa0»', 'url': 'https://www.lemonde.fr/economie/article/2024/09/07/la-moutarde-se-pique-de-revanche_6306328_3234.html', 'description': 'Deux ans après la pénurie du condiment liée à une mauvaise récolte au Canada, principal exportateur de la petite graine piquante, la relocalisation des cultures en France est une réussite, constate Laurence Girard, journaliste économique au «\\xa0Monde\\xa0».', 'date': 'Publié le 07 septembre 2024 à 11h30', 'author': 'Laurence Girard'}\n"
     ]
    }
   ],
   "execution_count": 239
  },
  {
   "metadata": {},
   "cell_type": "code",
   "outputs": [],
   "execution_count": null,
   "source": ""
  }
 ],
 "metadata": {
  "kernelspec": {
   "display_name": "Python 3",
   "language": "python",
   "name": "python3"
  },
  "language_info": {
   "codemirror_mode": {
    "name": "ipython",
    "version": 3
   },
   "file_extension": ".py",
   "mimetype": "text/x-python",
   "name": "python",
   "nbconvert_exporter": "python",
   "pygments_lexer": "ipython3",
   "version": "3.6.10"
  }
 },
 "nbformat": 4,
 "nbformat_minor": 2
}
